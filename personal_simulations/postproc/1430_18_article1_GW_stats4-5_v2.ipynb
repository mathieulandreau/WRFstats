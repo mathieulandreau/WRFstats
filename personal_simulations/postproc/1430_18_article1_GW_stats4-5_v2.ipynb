{
 "cells": [
  {
   "cell_type": "code",
   "execution_count": null,
   "id": "8757a1bc-de87-464c-96af-10e11e9a7298",
   "metadata": {},
   "outputs": [],
   "source": [
    "#py_wrf_arps version : 2308f94f39bfcb528a6831fa73111bec80e03a5a , the current date is :  2025-02-21 13:59:19.987486\n",
    "from py_wrf_arps import *\n",
    "import time\n",
    "import copy\n",
    "import scipy\n",
    "import pandas as pd\n",
    "%matplotlib inline"
   ]
  },
  {
   "cell_type": "code",
   "execution_count": null,
   "id": "1789bc02-00af-4890-8d7f-a3cc42cce57d",
   "metadata": {},
   "outputs": [],
   "source": [
    "sim = Proj(\"../../../../\", \"14_20200515/\", [\"05\"], \n",
    "        [\"WRF\"], \n",
    "        tab_test=[\"30\"])\n",
    "dom = sim.get_dom(\"05\")\n",
    "SBZvec = np.linspace(0.06, 2.4, 40)"
   ]
  },
  {
   "cell_type": "markdown",
   "id": "e71cc02f-055a-4a6a-81f9-ae26452f733d",
   "metadata": {
    "tags": []
   },
   "source": [
    "## init p, interp"
   ]
  },
  {
   "cell_type": "code",
   "execution_count": null,
   "id": "b12334d4-af80-4cc0-90d2-f7a180b913c8",
   "metadata": {
    "tags": []
   },
   "outputs": [],
   "source": [
    "p = {}\n",
    "# itime = (\"2020-05-17-12\", \"2020-05-17-16\", \"1h\")\n",
    "itime = (\"2020-05-17-12-40\", \"2020-05-17-14-30\")\n",
    "kw_get = {\n",
    "    \"itime\" : itime,\n",
    "    \"crop\" : ([0, 40], [35, 250], [15, 210]),\n",
    "    \"saved\" : p,\n",
    "}"
   ]
  },
  {
   "cell_type": "code",
   "execution_count": null,
   "id": "9c0ae012-3256-4028-85df-66c15667cbfa",
   "metadata": {
    "tags": []
   },
   "outputs": [],
   "source": [
    "def interp_TKE_SBZ(gr):\n",
    "    gr[\"SBZ2\"] = SBZvec\n",
    "    SBZ = gr[\"SBZ\"].values\n",
    "    varnames_temp = copy.copy(varnames)\n",
    "    for v in varnames :  \n",
    "        if v in [\"GWIL\", \"GWIR\", \"GWM2D\", \"X\", \"Y\", \"WD180\", \"MH\", \"GWMASK4\", \"GWMASK5\", \"RI\"] : \n",
    "            varnames_temp.remove(v)\n",
    "    for v in varnames_temp :\n",
    "        gr[v] = np.interp(SBZvec, SBZ, gr[v], left = np.nan, right=np.nan)\n",
    "    # suprisingly slower version\n",
    "    # f = scipy.interpolate.interp1d(gr[\"SBZ\"], gr[varnames_temp], axis=0, bounds_error = False)\n",
    "    # gr[varnames_temp] = f(SBZvec)\n",
    "    return gr\n"
   ]
  },
  {
   "cell_type": "markdown",
   "id": "5868b591-0a49-4b55-bcc5-26fe87d5e819",
   "metadata": {
    "jp-MarkdownHeadingCollapsed": true,
    "tags": []
   },
   "source": [
    "## df : skip if read_pickle"
   ]
  },
  {
   "cell_type": "code",
   "execution_count": null,
   "id": "dcd5f123-a5ef-498e-95ee-0fdb68afb3f3",
   "metadata": {},
   "outputs": [],
   "source": [
    "TIME = sim.get_data(\"05\", \"TIME\", **kw_get)"
   ]
  },
  {
   "cell_type": "code",
   "execution_count": null,
   "id": "bbc6ef1f-0795-41c9-abd6-530822205952",
   "metadata": {
    "tags": []
   },
   "outputs": [],
   "source": [
    "if \"GWM4D\" in p : del p[\"GWM4D\"]\n",
    "varnames = [\"GWMASK4\", \"GWMASK5\", \"GWIL\", \"Z\", \"COASTDIST\",\"WD180\", \"GWM4D\",\n",
    "            \"GWR\", \"PTV_C\", \"TKE_SFS\", \"U\", \"V\", \"W\", \"X\", \"Y\",\"SHEAR\", \"NBV2\", \n",
    "            \"GWCM2U\", \"GWCM2V\", \"GWCM2W\", \"GWCTKE\", \"GWITKE\", \n",
    "            \"M2U\", \"M2V\", \"M2W\", \"COVUV\", \"COVVW\", \"COVUW\", \"TKE\", \n",
    "            \"GWM4_M2U\", \"GWM4_M2V\", \"GWM4_COVUV\", \"GWM4_COVVW\", \"GWM4_COVUW\",\n",
    "            \"DXW_U\", \"DYW_U\", \"DZ_U\", \"DXW_V\", \"DYW_V\", \"DZ_V\", \"DXW_W\", \"DYW_W\", \"DZ_W\",\n",
    "            \"PUU1\", \"PUU2\", \"PUU3\", \"PVV1\", \"PVV2\", \"PVV3\", \"PWW1\", \"PWW2\", \"PWW3\", \"PUU\", \"PVV\", \"PWW\",\n",
    "            \"GWM4_PUU1\", \"GWM4_PUU2\", \"GWM4_PUU3\", \"GWM4_PVV1\", \"GWM4_PVV2\", \"GWM4_PVV3\", \"GWM4_PWW1\", \"GWM4_PWW2\", \"GWM4_PWW3\", \"GWM4_PUU\", \"GWM4_PVV\", \"GWM4_PWW\",\n",
    "            \"GWM4_U\", \"GWM4_V\",\n",
    "            \n",
    "           ]\n",
    "_ = sim.get_data(\"05\", varnames, **kw_get)\n",
    "TIME = sim.get_data(\"05\", \"TIME\", **kw_get)\n",
    "p2 = {}\n",
    "NT, NZ, NY, NX = p[\"Z\"].shape\n",
    "p[\"it\"] = np.arange(len(TIME))\n",
    "p[\"iz\"] = np.arange(NZ)\n",
    "# p[\"GWLAM\"] = GWLAM\n",
    "# p[\"GWS\"] = GWS\n",
    "# for v in [\"it\", \"GWLAM\", \"GWS\"] :\n",
    "for v in [\"it\"] :\n",
    "    p[v] = np.expand_dims(p[v], axis=(1, 2, 3))\n",
    "for v in [\"it\", \"GWM4D\"] :\n",
    "    p[v] = np.repeat(p[v], NZ, axis=1)\n",
    "    p[v] = np.repeat(p[v], NY, axis=2)\n",
    "    p[v] = np.repeat(p[v], NX, axis=3)\n",
    "for v in [\"iz\"] :\n",
    "    p[v] = np.expand_dims(p[v], axis=(0, 2, 3))\n",
    "    p[v] = np.repeat(p[v], NT, axis=0)\n",
    "    p[v] = np.repeat(p[v], NY, axis=2)\n",
    "    p[v] = np.repeat(p[v], NX, axis=3)"
   ]
  },
  {
   "cell_type": "code",
   "execution_count": null,
   "id": "a2f708a6-e757-4376-95b8-d2842133f7bd",
   "metadata": {
    "tags": []
   },
   "outputs": [],
   "source": [
    "for v in varnames :\n",
    "    if p[v].ndim == 3 :\n",
    "        p[v] = np.expand_dims(p[v], axis=1)\n",
    "        p[v] = np.repeat(p[v], NZ, axis=1)\n",
    "    if p[v].ndim == 4 :\n",
    "        if p[v].shape != (NT, NZ, NY, NX) :\n",
    "            for idim, dim in enumerate([NT, NZ, NY, NX]) :\n",
    "                if p[v].shape[idim] == 1 :\n",
    "                    p[v] = np.repeat(p[v], dim, axis=idim)           \n",
    "        p2[v] = p[v].flatten()\n",
    "p2[\"it\"] = p[\"it\"].flatten()\n",
    "p2[\"iz\"] = p[\"iz\"].flatten()"
   ]
  },
  {
   "cell_type": "code",
   "execution_count": null,
   "id": "9c30aceb-d5de-4c33-9567-d8316d2a791b",
   "metadata": {
    "tags": []
   },
   "outputs": [],
   "source": [
    "df0 = pd.DataFrame(p2)"
   ]
  },
  {
   "cell_type": "code",
   "execution_count": null,
   "id": "ec28e6d4-3f67-4d78-a1bb-0ac461219924",
   "metadata": {
    "tags": []
   },
   "outputs": [],
   "source": [
    "df = df0[df0[\"GWMASK4\"]==1]\n",
    "df[\"ir*\"] = pd.cut(df[\"GWR\"], bins=np.linspace(0, 1, 9), labels=False)\n",
    "df = df.rename(columns={'GWIL': 'il'})\n",
    "df = df.set_index([\"it\", \"iz\", \"il\", \"ir*\", \"X\", \"Y\"])\n",
    "df[\"TIME\"] = manage_time.to_hour(TIME[list(df.index.get_level_values('it'))])"
   ]
  },
  {
   "cell_type": "code",
   "execution_count": null,
   "id": "e80c8c0b-5a56-4dc8-8bc7-3b9d6abb5a4d",
   "metadata": {
    "tags": []
   },
   "outputs": [],
   "source": [
    "df5 = df0[df0[\"GWMASK5\"]==1]\n",
    "df5 = df5.rename(columns={'GWIL': 'il'})\n",
    "df5 = df5.set_index([\"it\", \"iz\", \"il\"])\n",
    "df5[\"TIME\"] = manage_time.to_hour(TIME[list(df5.index.get_level_values('it'))])\n",
    "df5 = df5.groupby([\"it\", \"iz\", \"il\"]).mean()"
   ]
  },
  {
   "cell_type": "code",
   "execution_count": null,
   "id": "c3c2da31-064f-4213-87af-a4e535a65cc2",
   "metadata": {
    "tags": []
   },
   "outputs": [],
   "source": [
    "itvec = df.index.get_level_values(\"it\").unique()\n",
    "izvec = df.index.get_level_values(\"iz\").unique()\n",
    "ilvec = df.index.get_level_values(\"il\").unique()\n",
    "irvec = df.index.get_level_values(\"ir*\").unique()\n",
    "NT = len(df.index.get_level_values(\"it\").unique())\n",
    "NZ = len(df.index.get_level_values(\"iz\").unique())\n",
    "NL = len(df.index.get_level_values(\"il\").unique())\n",
    "NR = len(df.index.get_level_values(\"ir*\").unique())"
   ]
  },
  {
   "cell_type": "markdown",
   "id": "747416bd-56aa-4656-994a-8469426799af",
   "metadata": {
    "jp-MarkdownHeadingCollapsed": true,
    "tags": []
   },
   "source": [
    "## Trouver z0 et zc pour chaque profil : skip if read_pickle"
   ]
  },
  {
   "cell_type": "code",
   "execution_count": null,
   "id": "70c9ef95-1841-47b1-bece-5aa66c76e021",
   "metadata": {
    "tags": []
   },
   "outputs": [],
   "source": [
    "def calculate_Tm_Zm(gr): # Pour chaque block, à chaque t, à chaque z, moyenne de Z, U, V, T, WD\n",
    "    gr[\"Tm\"] = np.mean(gr[\"PTV_C\"])\n",
    "    gr[\"Zm\"] = np.mean(gr[\"Z\"])\n",
    "    gr[\"Um\"] = np.mean(gr[\"U\"])\n",
    "    gr[\"Vm\"] = np.mean(gr[\"V\"])\n",
    "    gr[\"WD180m\"] = manage_angle.angle180(manage_angle.UV2WD_deg(np.array(gr[\"Um\"]), np.array(gr[\"Vm\"])))\n",
    "    return gr\n",
    "\n",
    "def calculate_SBZ(gr):\n",
    "    _, _, s = manage_list.longest_increasing_sequence(np.array(gr[\"Tm\"]))\n",
    "    _, _, s2 = manage_list.longest_increasing_sequence(np.array(gr[\"PTV_C\"]))\n",
    "    gr[\"GWZ0\"] = gr[\"Z\"]*np.nan\n",
    "    gr[\"GWZ0\"][s2] = np.interp(gr[\"PTV_C\"][s2], gr[\"Tm\"][s], gr[\"Zm\"][s], left = np.nan, right=np.nan)\n",
    "    pos = np.isnan(gr[\"GWZ0\"])\n",
    "    if np.any(pos) :\n",
    "        gr[\"GWZ0\"][pos] = gr[\"Z\"][pos]\n",
    "    gr[\"SBZC\"] = np.interp(-45, gr[\"WD180\"], gr[\"GWZ0\"]) # Pareil mais pour chaque profil\n",
    "    gr[\"SBZ\"] = gr[\"GWZ0\"]/gr[\"SBZC\"]\n",
    "    return gr\n"
   ]
  },
  {
   "cell_type": "code",
   "execution_count": null,
   "id": "1f782c26-89ff-4367-a6ee-39a29dac2b9c",
   "metadata": {
    "tags": []
   },
   "outputs": [],
   "source": [
    "def calculate_SBZ5(gr):\n",
    "    gr[\"SBZC\"] = np.interp(-45, gr[\"WD180\"], gr[\"Z\"]) # La hauteur caractéristique est définie avec WD = 45°\n",
    "    gr[\"SBZ\"] = gr[\"Z\"]/gr[\"SBZC\"]\n",
    "    return gr"
   ]
  },
  {
   "cell_type": "code",
   "execution_count": null,
   "id": "01c70b6f-cf54-4c38-9128-4ed0c89355bf",
   "metadata": {
    "tags": []
   },
   "outputs": [],
   "source": [
    "df = df.groupby(['it', 'il', 'iz'], group_keys=False).apply(calculate_Tm_Zm)\n",
    "df = df.groupby(['it', 'X', 'Y'], group_keys=False).apply(calculate_SBZ)"
   ]
  },
  {
   "cell_type": "code",
   "execution_count": null,
   "id": "534e4769-7c68-463f-9cf3-1481c591bdee",
   "metadata": {
    "tags": []
   },
   "outputs": [],
   "source": [
    "df5 = df5.groupby(['it', 'il'], group_keys=False).apply(calculate_SBZ5)"
   ]
  },
  {
   "cell_type": "code",
   "execution_count": null,
   "id": "f5947652-a8cd-41ce-9045-e76d261cd755",
   "metadata": {
    "tags": []
   },
   "outputs": [],
   "source": [
    "dg = df.groupby(['it', 'X', 'Y'], group_keys=False).apply(interp_TKE_SBZ)"
   ]
  },
  {
   "cell_type": "code",
   "execution_count": null,
   "id": "a3dbc2c8-bc70-42ee-a804-72caae518c85",
   "metadata": {
    "tags": []
   },
   "outputs": [],
   "source": [
    "dg5 = df5.groupby(['it', 'il'], group_keys=False).apply(interp_TKE_SBZ)"
   ]
  },
  {
   "cell_type": "code",
   "execution_count": null,
   "id": "86d767bd-2958-4e89-a717-ce89edaa1a82",
   "metadata": {},
   "outputs": [],
   "source": [
    "def calculate_after_interp(gr)\n",
    "    gr[\"MH\"] = np.sqrt(gr[\"U\"]**2 + gr[\"V\"]**2)\n",
    "    gr[\"WD180\"] = manage_angle.angle180(np.array(manage_angle.UV2WD_deg(gr[\"U\"], gr[\"V\"])))\n",
    "    # gr[\"RI\"] = gr[\"NBV2\"]/gr[\"SHEAR\"]**2\n",
    "    # gr[\"M2UV\"] = gr[\"M2U\"] + gr[\"M2V\"]\n",
    "    return gr\n",
    "df = calculate_after_interp(df)\n",
    "df5 = calculate_after_interp(df5)"
   ]
  },
  {
   "cell_type": "code",
   "execution_count": null,
   "id": "8f4441af-0d3f-4cef-9710-4968c0b62073",
   "metadata": {},
   "outputs": [],
   "source": [
    "(,)"
   ]
  },
  {
   "cell_type": "markdown",
   "id": "1e26febc-5876-40ab-8491-34ab11920584",
   "metadata": {
    "jp-MarkdownHeadingCollapsed": true,
    "tags": []
   },
   "source": [
    "## save : skip if read_pickle"
   ]
  },
  {
   "cell_type": "code",
   "execution_count": null,
   "id": "861739bd-372d-407e-aa3e-919bf1963dc8",
   "metadata": {},
   "outputs": [],
   "source": [
    "df.to_pickle(sim.postprocdir+\"GW_M4_df_total5\")"
   ]
  },
  {
   "cell_type": "code",
   "execution_count": null,
   "id": "045ed30c-76f1-491d-9453-8a7d3bc556ee",
   "metadata": {},
   "outputs": [],
   "source": [
    "dg.to_pickle(sim.postprocdir+\"GW_M4_dg_total5\")"
   ]
  },
  {
   "cell_type": "code",
   "execution_count": null,
   "id": "d1b456b0-5cc8-4d71-a3f3-81ead5d34971",
   "metadata": {},
   "outputs": [],
   "source": [
    "df5.to_pickle(sim.postprocdir+\"GW_M5_df_total5\")"
   ]
  },
  {
   "cell_type": "code",
   "execution_count": null,
   "id": "1eb4e444-3815-4427-b210-8f97624ef676",
   "metadata": {},
   "outputs": [],
   "source": [
    "dg5.to_pickle(sim.postprocdir+\"GW_M5_dg_total5\")"
   ]
  },
  {
   "cell_type": "markdown",
   "id": "34106609-c3b6-43de-a6c2-013ed550a8d7",
   "metadata": {},
   "source": [
    "## get"
   ]
  },
  {
   "cell_type": "code",
   "execution_count": null,
   "id": "ccd224c2-1ee6-4d1a-87f9-6123d21f9e06",
   "metadata": {},
   "outputs": [],
   "source": [
    "df = pd.read_pickle(sim.postprocdir+\"GW_M4_df_total5\")\n",
    "df5 = pd.read_pickle(sim.postprocdir+\"GW_M5_df_total5\")"
   ]
  },
  {
   "cell_type": "code",
   "execution_count": null,
   "id": "04d9ac89-bb99-4790-8556-d58e83dee45e",
   "metadata": {},
   "outputs": [],
   "source": [
    "dg = pd.read_pickle(sim.postprocdir+\"GW_M4_dg_total5\")\n",
    "dg5 = pd.read_pickle(sim.postprocdir+\"GW_M5_dg_total5\")"
   ]
  },
  {
   "cell_type": "markdown",
   "id": "9df0c597-09a8-490f-a692-4a822f0ddd58",
   "metadata": {
    "jp-MarkdownHeadingCollapsed": true,
    "tags": []
   },
   "source": [
    "## append"
   ]
  },
  {
   "cell_type": "code",
   "execution_count": null,
   "id": "53a97fa1-e139-4781-ba16-5a6e61382cbb",
   "metadata": {
    "tags": []
   },
   "outputs": [],
   "source": [
    "def append_vars(df, df5, varnames, kw_get, p):\n",
    "    varnames = varnames + [\"GWR\", \"GWIL\", \"it\", \"iz\", \"X\", \"Y\", \"GWMASK4\", \"GWMASK5\", \"Z\"]\n",
    "    _ = sim.get_data(\"05\", varnames, **kw_get, print_level=2)\n",
    "    NT, NZ, NY, NX = p[\"Z\"].shape\n",
    "    p[\"it\"] = np.expand_dims(np.arange(NT), axis=(1, 2, 3))\n",
    "    p2bis = {}\n",
    "    for v in varnames :\n",
    "        if p[v].ndim == 3 :\n",
    "            p[v] = np.expand_dims(p[v], axis=1)\n",
    "            p[v] = np.repeat(p[v], NZ, axis=1)\n",
    "        if p[v].ndim == 4 :\n",
    "            if p[v].shape != (NT, NZ, NY, NX) :\n",
    "                for idim, dim in enumerate([NT, NZ, NY, NX]) :\n",
    "                    if p[v].shape[idim] == 1 :\n",
    "                        p[v] = np.repeat(p[v], dim, axis=idim)           \n",
    "            p2bis[v] = p[v].flatten()\n",
    "    df0bis = pd.DataFrame(p2bis)\n",
    "    \n",
    "    dfbis = df0bis[df0bis[\"GWMASK4\"]==1]\n",
    "    dfbis[\"ir*\"] = pd.cut(dfbis[\"GWR\"], bins=np.linspace(0, 1, 9), labels=False)\n",
    "    dfbis = dfbis.rename(columns={'GWIL': 'il'})\n",
    "    dfbis = dfbis.set_index([\"it\", \"iz\", \"il\", \"ir*\", \"X\", \"Y\"])\n",
    "    dfbis = dfbis.drop([\"GWR\", \"GWMASK4\", \"GWMASK5\", \"Z\"], axis=1)\n",
    "    dfnew = pd.concat([df, dfbis], axis=1)\n",
    "    \n",
    "    df5bis = df0bis[df0bis[\"GWMASK5\"]==1]\n",
    "    df5bis = df5bis.rename(columns={'GWIL': 'il'})\n",
    "    df5bis = df5bis.set_index([\"it\", \"iz\", \"il\"])\n",
    "    df5bis = df5bis.groupby([\"it\", \"iz\", \"il\"]).mean()\n",
    "    df5bis = df5bis.drop([\"X\", \"Y\", \"GWR\", \"GWMASK4\", \"GWMASK5\", \"Z\"], axis=1)\n",
    "    df5new = pd.concat([df5, df5bis], axis=1)\n",
    "    \n",
    "    return dfnew, df5new"
   ]
  },
  {
   "cell_type": "code",
   "execution_count": null,
   "id": "e7337261-b4ba-4f02-be61-410056151a5f",
   "metadata": {
    "tags": []
   },
   "outputs": [],
   "source": [
    "varnames = [\"GWM4_COVVP\"]\n",
    "df, df5 = append_vars(df, df5, varnames, kw_get, p)"
   ]
  },
  {
   "cell_type": "code",
   "execution_count": null,
   "id": "c415fe92-414d-4b9a-a7b0-59c7235e9172",
   "metadata": {},
   "outputs": [],
   "source": [
    "dg5new = df5.groupby(['it', 'X', 'Y'], group_keys=False).apply(interp_TKE_SBZ)"
   ]
  },
  {
   "cell_type": "code",
   "execution_count": null,
   "id": "034e3f93-c99b-4ab2-8d6a-96f0de14b72c",
   "metadata": {
    "tags": []
   },
   "outputs": [],
   "source": [
    "dgnew = df.groupby(['it', 'X', 'Y'], group_keys=False).apply(interp_TKE_SBZ)"
   ]
  },
  {
   "cell_type": "code",
   "execution_count": null,
   "id": "56d7e379-38e0-472a-811a-3cbaef2317eb",
   "metadata": {},
   "outputs": [],
   "source": [
    "for v in varnames :\n",
    "    dg5[v] = dg5new[v]\n",
    "    dg[v] = dgnew[v]"
   ]
  },
  {
   "cell_type": "markdown",
   "id": "c4194cf8-6e75-47e4-96cb-261a72a23534",
   "metadata": {
    "jp-MarkdownHeadingCollapsed": true,
    "tags": []
   },
   "source": [
    "## TKE res / sfs"
   ]
  },
  {
   "cell_type": "code",
   "execution_count": null,
   "id": "3553a0eb-5054-431d-9a8a-d293f8b5f843",
   "metadata": {
    "tags": []
   },
   "outputs": [],
   "source": [
    "import matplotlib\n",
    "c = list(matplotlib.rcParams[\"axes.prop_cycle\"])\n",
    "# for it in range(0, 19, 3) :\n",
    "fig = plt.figure(figsize = [6, 8], dpi = 120, layout=\"tight\")\n",
    "ax = plt.subplot(111)\n",
    "TIME = df5[\"TIME\"].unique()\n",
    "for i_it, it in enumerate([2, 8]) :\n",
    "# for it in [6] :\n",
    "    dfi = df.loc[it, :, :, :].groupby([\"iz\"]).mean()\n",
    "    Z = dfi[\"Z\"]\n",
    "    TKEtot = dfi[\"TKE\"]\n",
    "    TKEGW = dfi[\"GWITKE\"]\n",
    "    TKECGW = dfi[\"GWCTKE\"]\n",
    "    TKE_SFS = dfi[\"TKE_SFS\"]\n",
    "    \n",
    "    plt.plot(TKE_SFS, Z, \"--\", color=manage_plot.colors[i_it+2])\n",
    "    plt.plot(TKECGW, Z, \"-.\", color=manage_plot.colors[i_it+2])\n",
    "    plt.plot(TKEtot, Z, \"-\", color=manage_plot.colors[i_it+2], label=str(round(TIME[it])) + \"00 UTC\")\n",
    "    \n",
    "\n",
    "plt.plot(TKE_SFS-1, Z, \"--\", color=\"k\", label=\"$k_{sgs}$\")\n",
    "plt.plot(TKECGW-1, Z, \"-.\", color=\"k\", label=\"$k$\")\n",
    "plt.plot(TKEtot-1, Z, \"-\", color=\"k\", label=\"$k_{tot}$\")\n",
    "plt.xlim([0, 0.45])\n",
    "plt.ylim([0, 800])\n",
    "# plt.title(TIME[it])\n",
    "plt.xlabel(\"TKE ($m^2.s^{-2}$)\")\n",
    "plt.ylabel(\"Height ($m$)\")\n",
    "ax.set_xticklabels([0, 0.1, 0.2, 0.3, 0.4])\n",
    "plt.grid()\n",
    "plt.legend(loc=\"upper right\")\n",
    "# fig.savefig(sim.figdir+\"t30/art1/profile_TKE_res_GW_1300_1400\", dpi = 120, layout=\"tight\")"
   ]
  },
  {
   "cell_type": "markdown",
   "id": "72503be7-9d7c-4528-8504-be4e66c544a6",
   "metadata": {
    "jp-MarkdownHeadingCollapsed": true,
    "tags": []
   },
   "source": [
    "## TKE peak height"
   ]
  },
  {
   "cell_type": "code",
   "execution_count": null,
   "id": "3c60ea5e-d5fb-448a-91cd-b5d22b4efaec",
   "metadata": {},
   "outputs": [],
   "source": [
    "def find_TKE_peak(group) :\n",
    "    Z = np.array(group[\"Z\"])\n",
    "    SBZ = np.array(group[\"SBZ\"])\n",
    "    TKE = np.array(group[\"TKE\"])\n",
    "    im = scipy.signal.find_peaks(TKE, prominence=0.03)\n",
    "    im = list(im[0])\n",
    "    # mask = np.logical_and(Z[im] > 0, Z[im]< 400)\n",
    "    mask = np.logical_and(SBZ[im] > 0.2, SBZ[im]< 2)\n",
    "    im = np.array(im)[mask]\n",
    "    if len(im) > 0 :\n",
    "        i = im[np.nanargmax(TKE[im])]\n",
    "        Zi = Z[i]\n",
    "        SBZi = SBZ[i]\n",
    "    else :\n",
    "        i = -1\n",
    "        Zi = np.nan\n",
    "        SBZi = np.nan\n",
    "    group[\"IP\"] = i\n",
    "    group[\"ZP\"] = Zi\n",
    "    group[\"SBZP\"] = SBZi\n",
    "    return group"
   ]
  },
  {
   "cell_type": "code",
   "execution_count": null,
   "id": "073e34b4-5f99-47a8-a1cd-02a10eee1db8",
   "metadata": {},
   "outputs": [],
   "source": [
    "def calculate_ZP_var(group, varname):\n",
    "    if type(varname) in [str] :\n",
    "        group[varname+\"_ZP\"] = np.interp(group[\"ZP\"], group[\"Z\"], group[varname])\n",
    "    elif type(varname) in [list] :\n",
    "        for v in varname :\n",
    "            group[v+\"_ZP\"] = np.interp(group[\"ZP\"], group[\"Z\"], group[v])\n",
    "    return group"
   ]
  },
  {
   "cell_type": "code",
   "execution_count": null,
   "id": "cfa6a04e-5728-40a9-b8ca-b7964ce91a69",
   "metadata": {},
   "outputs": [],
   "source": [
    "df5 = df5.groupby(['it', 'il'], group_keys=False).apply(find_TKE_peak)\n",
    "df5 = df5.groupby(['it', 'il'], group_keys=False).apply(calculate_ZP_var, [\"TKE\"])"
   ]
  },
  {
   "cell_type": "code",
   "execution_count": null,
   "id": "7454d4ab-2828-4713-bc53-9af75cecd8e7",
   "metadata": {
    "tags": []
   },
   "outputs": [],
   "source": [
    "dfi = df5.loc[:, 0, :]\n",
    "CDIlim = [0, 4, 8, 12, 60]\n",
    "params = []\n",
    "\n",
    "dz_random = 10\n",
    "\n",
    "params = [{\"same_ax\" : True,\n",
    "    \"X\" : dfi[\"SBZC\"]+(np.random.rand(len(dfi[\"TIME\"]))-0.5)*dz_random, \"Y\" : dfi[\"ZP\"]+(np.random.rand(len(dfi[\"TIME\"]))-0.5)*dz_random, \n",
    "    \"Z\" : -dfi[\"COASTDIST\"]/1000, \"cmap\" : \"Spectral\", \"clim\" : [0, 16], \"discrete\" : 4,\n",
    "    \"kwargs_plt\" : {\"s\" : 100*dfi[\"TKE_ZP\"], \"zorder\" : 3}, \n",
    "    \"xlim\" : [0, 300], \"ylim\" : [0, 300],\n",
    "    \"xlabel\" : \"$z_c$ (m)\", \"ylabel\" : \"$k_{tot}$ peak height (m)\", \"clabel\" : \"Distance from coastline (km)\",\n",
    "    \"savepath\" : \"t30/art1/M5_ZP_SBZC\", \"DX_subplots\" : 10,\n",
    "    \"dpi\" : 120,\n",
    "},{\n",
    "    \"same_ax\" : True, \"X\" : [0, 300], \"Y\" : [0, 300], \"style\" : \"k\",\n",
    "}]\n",
    "\n",
    "params.append({\n",
    "    \"same_ax\" : True, \"X\" : [-100], \"Y\" : [0], \"Z\" : [0],\n",
    "    \"label\" : \"$0.1\\ m^2.s^{-2}$\", \"kwargs_plt\" : {\"s\" : 10}, \"cmap\" : \"copper\",\"plot_cbar\" : False,\n",
    "})\n",
    "params.append({\n",
    "    \"same\" : -1, \"label\" : \"$0.3\\ m^2.s^{-2}$\", \"kwargs_plt\" : {\"s\" : 30}\n",
    "})\n",
    "fig = sim.plot_fig(params)"
   ]
  },
  {
   "cell_type": "markdown",
   "id": "6b071662-7770-4506-a6b1-d03f1f6ef3ca",
   "metadata": {
    "jp-MarkdownHeadingCollapsed": true,
    "tags": []
   },
   "source": [
    "## Profil instantanné"
   ]
  },
  {
   "cell_type": "code",
   "execution_count": null,
   "id": "7c4939ee-9b39-46a1-9a86-73c9f48aac42",
   "metadata": {},
   "outputs": [],
   "source": [
    "its = [2, 8]\n",
    "ils = [[17, 23], [15, 22]]\n",
    "params = []\n",
    "for i_it, it in enumerate(its) :\n",
    "    print(df5.loc[it][\"TIME\"].unique())\n",
    "    for i_il, il in enumerate(ils[i_it]) :\n",
    "        dfitl = df5.loc[it, :, il]\n",
    "        print(round(-np.mean(dfitl[\"COASTDIST\"])/1000))\n",
    "        params.append({\n",
    "            \"X\" : dfitl[\"TKE\"], \"Y\" : dfitl[\"Z\"], \"same_ax\" : i_il > 0, \n",
    "            \"label\" : f\"{round(-np.mean(dfitl['COASTDIST'])/1000)} km\",\n",
    "            \"savepath\" : \"t30/art1/M5_profiles_TKE_Z_instant2\",\n",
    "            \"DX_subplots\" : 4, \"xlim\" : [0, 0.3], \"ylim\" : [0, 800],\n",
    "            \"kwargs_plt\" : {\n",
    "                \"linewidth\" : 2,\n",
    "                \"color\" : manage_plot.colors[2*i_it + i_il],\n",
    "            },\n",
    "            \"dpi\" : 120,\n",
    "            \"ylabel\" : \"Height (m)\" if i_it < 1 else None, \n",
    "            \"xlabel\" : \"$k_{tot}$ (m$^2$.s$^{-2}$)\",\n",
    "            \"legend_loc\" : \"upper right\",\n",
    "            \"xticks\" : [0.0, 0.1, 0.2],  \n",
    "            \"yticklabels\" : [] if i_it > 0 else None,\n",
    "        })\n",
    "        params.append({\n",
    "            \"typ\" : \"AXHLINE\", \"Y\" : np.mean(dfitl[\"SBZC\"]), \"kwargs_plt\":  {\"color\" : manage_plot.colors[2*i_it + i_il], \"linewidth\" : 2, \"linestyle\" : \"--\"}\n",
    "        })\n",
    "        \n",
    "params.append({\n",
    "    \"X\" : [-1, -0.5], \"Y\" : [0, 1], \"kwargs_plt\":  {\"color\" : \"k\", \"linewidth\" : 2, \"linestyle\" : \"--\"}, \"label\" : \"$z_c$\", \"same_ax\" : True,\n",
    "    \"legend_loc\" : \"upper right\",\n",
    "})\n",
    "fig = sim.plot_fig(params)\n",
    "    "
   ]
  },
  {
   "cell_type": "markdown",
   "id": "ca455c4f-46d1-4c8c-b283-4f7b458913a2",
   "metadata": {
    "tags": []
   },
   "source": [
    "## Production shear"
   ]
  },
  {
   "cell_type": "code",
   "execution_count": null,
   "id": "61688405-39ff-4a59-80ac-fa603c641384",
   "metadata": {
    "tags": []
   },
   "outputs": [],
   "source": [
    "st2 = slice(6, 12)\n",
    "dg[\"ir*2\"] = pd.cut(df[\"GWR\"], bins=np.linspace(0, 1, 25), labels=False)\n",
    "dg2D = dg.loc[st2, :, :, :].groupby([\"iz\", \"ir*2\"]).mean().unstack()\n",
    "# dg2D = dg.loc[st2, :, :, :].fillna(np.inf).groupby([\"iz\", \"ir*2\"]).mean().replace(np.inf, np.nan).unstack()\n",
    "\n",
    "n = -3\n",
    "zstr = \"SBZ2\"\n",
    "if zstr == \"SBZ2\" : ylabel = \"$z^*$\"\n",
    "else : ylabel = \"Height (m)\"\n",
    "params = [{\n",
    "    \"typ\" : \"2D\", \"X\" : np.array(dg2D[\"GWR\"]), \"Y\" : np.array(dg2D[zstr]), \"Z\" : np.array(dg2D[\"TKE\"]), \"cmap\" : 0,# \"xlabel\" : \"$\\phi_W/2\\pi$\", \n",
    "    \"ylabel\" : ylabel, \"clabel\" : \"$<k_{tot}>_{st}$ (m$^2$.s$^{-2}$)\", \"xlim\" : [0, 1], \"xticks\" : np.arange(0, 1.1, 0.125), \"xticklabels\" : [\"T\",\"|\",\"A\",\"|\",\"C\",\"|\",\"D\",\"|\", \"T\"],\n",
    "    \"same_fig\" : False, \"savepath\" : f\"t30/GW/06_2DV_{zstr}_TKE\", #\"dpi\" : 120,\n",
    "},{ \"typ\" : \"QUIVER\", \"U\" : np.array(dg2D[\"GWM4_U\"]), \"V\" : 1800*np.array(dg2D[\"W\"])*(1*zstr==\"Z\"), \"kwargs_plt\" : {\"color\" : \"k\", \"scale_units\" : \"xy\", \"angles\" : \"xy\"}, \"stepx\" : 12,\n",
    "},{ \"typ\" : \"CONTOUR\", \"Z\" : np.array(dg2D[\"GWCTKE\"]), \"kwargs_plt\" : {\"levels\" : np.arange(0, 0.35, 0.05)}, #\"clabel\" : False,\n",
    "},{ \"same\" : n, \"Z\" : dg2D[\"GWCTKE\"],  \"clabel\" : \"$<k>_{st}$ (m$^2$.s$^{-2}$)\",\n",
    "   \"savepath\" : f\"t30/GW/06_2DV_{zstr}_GWCTKE\",\n",
    "},{\"same\" : n,},{\"same\" : n,\n",
    "# },{ \"same\" : n, \"Z\" : dg2D[\"DZ_GWM4_V\"],  \"clabel\" : \"$\\\\frac{\\\\partial V_r}{\\\\partial Z}\\ (s^{-1})$\", \"cmap\" : 0, \"clim\" : \"centered\",\n",
    "#    \"savepath\" : f\"t30/GW/06_2DV_{zstr}_DZ_GWM4_V\",\n",
    "# },{\"same\" : n,},{\"same\" : n,\n",
    "# },{ \"same\" : n, \"Z\" : dg2D[\"GWM4_M2V\"],  \"clabel\" : \"$<v_r'^2>$ (m$^2$.s$^{-2}$)\", \"cmap\" : 0, \"clim\" : None,\n",
    "#    \"savepath\" : f\"t30/GW/06_2DV_{zstr}_GWM4_M2V\",\n",
    "# },{\"same\" : n,},{\"same\" : n,\n",
    "   \n",
    "# },{ \"same\" : n, \"Z\" : dg2D[\"GWM4_COVVW\"],  \"clabel\" : \"$<v_r'w'>$ (m$^2$.s$^{-2}$)\", \"cmap\" : \"bwr\", \"clim\" : \"centered\",\n",
    "#    \"savepath\" : f\"t30/GW/06_2DV_{zstr}_GWM4_COVVW\",\n",
    "# },{\"same\" : n,},{\"same\" : n,\n",
    "# },{ \"same\" : n, \"Z\" : np.array(dg2D[\"GWM4_TVW\"])*1e4, \"cmap\" : \"bwr\", \"clim\" : [-11, 11], \"discrete\" : 11,\n",
    "#    \"savepath\" : f\"t30/GW/06_2DV_{zstr}_TVW\", \"clabel\" : \"$<v_r'w'>$ pressure transport (10$^{-4}$ m$^2$.s$^{-3}$)\",\n",
    "# },{\"same\" : n,},{\"same\" : n,\n",
    "# },{ \"same\" : n, \"Z\" : np.array(-dg2D[\"GWM4_DYW_COVWP\"]/dg2D[\"RHO\"])*1e4,\n",
    "#    \"savepath\" : f\"t30/GW/06_2DV_{zstr}_GWM4_DYW_COVWP\", \"clabel\" : \"GWM4_DYW_COVWP (10$^{-4}$ m$^2$.s$^{-3}$)\",\n",
    "# },{\"same\" : n,},{\"same\" : n,\n",
    "# },{ \"same\" : n, \"Z\" : np.array(-dg2D[\"DZ_GWM4_COVVP\"]/dg2D[\"RHO\"])*1e4,\n",
    "#    \"savepath\" : f\"t30/GW/06_2DV_{zstr}_DZ_GWM4_COVVP\", \"clabel\" : \"DZ_GWM4_COVVP (10$^{-4}$ m$^2$.s$^{-3}$)\",\n",
    "# },{\"same\" : n,},{\"same\" : n,\n",
    "# },{ \"same\" : n, \"Z\" : np.array(dg2D[\"GWM4_PVW\"])*1e4, \"clabel\" : \"$<v_r'w'>$ shear production (10$^{-4}$ m$^2$.s$^{-3}$)\",\n",
    "#    \"savepath\" : f\"t30/GW/06_2DV_{zstr}_GWM4_PVW\",\n",
    "# },{\"same\" : n,},{\"same\" : n,\n",
    "# },{ \"same\" : n, \"Z\" : np.array(dg2D[\"DTW_GWM4_COVVW\"])*1e4, \n",
    "#    \"savepath\" : f\"t30/GW/06_2DV_{zstr}_DTW_GWM4_COVVW\", \"cmap\" : \"bwr\", \"clabel\" : \"$<v_r'w'>_{,t}$ (10$^{-4}$ m$^2$.s$^{-3}$)\",\n",
    "# },{\"same\" : n,},{\"same\" : n,\n",
    "# },{ \"same\" : n, \"Z\" : np.array(dg2D[\"GWM4_AVW\"])*1e4, \n",
    "#    \"savepath\" : f\"t30/GW/06_2DV_{zstr}_GWM4_AVW\", \"cmap\" : \"bwr\", \"clabel\" : \"$<v_r'w'>$ advection (10$^{-4}$ m$^2$.s$^{-3}$)\",\n",
    "# },{\"same\" : n,},{\"same\" : n,\n",
    "# },{ \"same\" : n, \"Z\" : np.array(dg2D[\"DTW_GWM4_COVVW\"] - dg2D[\"GWM4_AVW\"] - dg2D[\"GWM4_TVW\"] - dg2D[\"GWM4_PVW\"])*1e4, \n",
    "#    \"savepath\" : f\"t30/GW/06_2DV_{zstr}_OVW\", \"cmap\" : \"bwr\", \"clabel\" : \"$<v_r'w'>$ residual (10$^{-4}$ m$^2$.s$^{-3}$)\",\n",
    "# },{\"same\" : n,},{\"same\" : n,\n",
    "   \n",
    "# },{ \"same\" : n, \"Z\" : dg2D[\"GWM4_PVV\"]*1e4, \"cmap\" : \"bwr\", \"clim\" : [-11, 11], \"discrete\" : 11,  \"clabel\" : \"PRVV (10$^{-4}$ m$^2$.s$^{-3}$)\",\n",
    "#    \"savepath\" : f\"t30/GW/06_2DV_{zstr}_GWM4_PVV\",\n",
    "# },{\"same\" : n,},{\"same\" : n,\n",
    "# },{ \"same\" : n, \"Z\" : dg2D[\"GWM4_AVV\"]*1e4,   \"clabel\" : \"ARVV (10$^{-4}$ m$^2$.s$^{-3}$)\",\n",
    "#    \"savepath\" : f\"t30/GW/06_2DV_{zstr}_GWM4_AVV\",\n",
    "# },{\"same\" : n,},{\"same\" : n,\n",
    "# },{ \"same\" : n, \"Z\" : np.array(dg2D[\"GWM4_PVV1\"])*1e4, \"cmap\" : \"bwr\", \"clim\" : [-11, 11], \"discrete\" : 11,  \"clabel\" : \"$-<v_r'w'> \\\\frac{\\\\partial V_r}{\\\\partial Z}$ (10$^{-4}$ m$^2$.s$^{-3}$)\",\n",
    "#    \"savepath\" : f\"t30/GW/06_2DV_{zstr}_GWM4_PVV\",\n",
    "# },{\"same\" : n,},{\"same\" : n,\n",
    "# },{ \"same\" : n, \"Z\" : np.array(dg2D[\"GWM4_PUU1\"])*1e4, \"cmap\" : \"bwr\", \"clim\" : [-11, 11], \"discrete\" : 11,  \"clabel\" : \"$-<u_r'^2> \\\\frac{\\\\partial U_r}{\\\\partial X_r}$ (10$^{-4}$ m$^2$.s$^{-3}$)\",\n",
    "#    \"savepath\" : f\"t30/GW/06_2DV_{zstr}_GWM4_PVV\",\n",
    "# },{\"same\" : n,},{\"same\" : n,\n",
    "# },{ \"same\" : n, \"Z\" : dg2D[\"GWM4_PVV\"]*1e4-dg2D[\"GWM4_AVV\"]*1e4, \"clabel\" : \"PRVV-ARVV (10$^{-4}$ m$^2$.s$^{-3}$)\",\n",
    "#    \"savepath\" : f\"t30/GW/06_2DV_{zstr}_GWM4_PVV-AVV\",\n",
    "# },{\"same\" : n,},{\"same\" : n,\n",
    "# },{ \"same\" : n, \"Z\" : dg2D[\"GWM4_U\"], \"cmap\" : 0, \"clim\" : None, \"discrete\" : None, \"clabel\" : \"$U_r\\ (m.s^{-1})$\",\n",
    "#    \"savepath\" : f\"t30/GW/06_2DV_{zstr}_GWM4_U\",\n",
    "# },{\"same\" : n,},{\"same\" : n,\n",
    "# },{ \"same\" : n, \"Z\" : dg2D[\"GWM4_V\"], \n",
    "#    \"savepath\" : f\"t30/GW/06_2DV_{zstr}_GWM4_V\", \"clabel\" : \"$V_r\\ (m.s^{-1})$\",\n",
    "# },{\"same\" : n,},{\"same\" : n,\n",
    "},{ \"same\" : n, \"Z\" : np.array(dg2D[\"GWM4_PTKE\"])*1e4, \n",
    "   \"savepath\" : f\"t30/GW/06_2DV_{zstr}_GWM4_PTKE\", \"cmap\" : \"bwr\", \"clim\" :  [-5.5, 5.5],  \"clabel\" : \"Shear production (10$^{-4}$ m$^2$.s$^{-3}$)\", \"discrete\" : 11,\n",
    "},{\"same\" : n,},{\"same\" : n,\n",
    "},{ \"same\" : n, \"Z\" : np.array(dg2D[\"GWM4_ATKE\"])*1e4, \n",
    "   \"savepath\" : f\"t30/GW/06_2DV_{zstr}_GWM4_ATKE\", \"clabel\" : \"Advection (10$^{-4}$ m$^2$.s$^{-3}$)\",\n",
    "},{\"same\" : n,},{\"same\" : n,\n",
    "},{ \"same\" : n, \"Z\" : np.array(dg2D[\"TTKE\"])*1e4, \n",
    "   \"savepath\" : f\"t30/GW/06_2DV_{zstr}_TTKE\", \"clabel\" : \"Pressure transport (10$^{-4}$ m$^2$.s$^{-3}$)\",\n",
    "},{\"same\" : n,},{\"same\" : n,\n",
    "# },{ \"same\" : n, \"Z\" : dg2D[\"GWM4_PTKE\"]*1e4-dg2D[\"GWM4_ATKE\"]*1e4, \n",
    "#    \"savepath\" : f\"t30/GW/06_2DV_{zstr}_GWM4_PTKE-ATKE\", \"clabel\" : \"PTKE-ATKE (10$^{-4}$ m$^2$.s$^{-3}$)\",\n",
    "# },{\"same\" : n,},{\"same\" : n,\n",
    "},{ \"same\" : n, \"Z\" : np.array(dg2D[\"DTW_TKE\"])*1e4, \n",
    "   \"savepath\" : f\"t30/GW/06_2DV_{zstr}_DTW_TKE\", \"cmap\" : \"bwr\", \"clim\" :  [-5.5, 5.5], \"discrete\" : 11, \"clabel\" : \"Variation rate (10$^{-4}$ m$^2$.s$^{-3}$)\",\n",
    "},{\"same\" : n,},{\"same\" : n,\n",
    "# },{ \"same\" : n, \"Z\" : np.array(dg2D[\"DTW_TKE\"]-dg2D[\"GWM4_ATKE\"]-dg2D[\"GWM4_PTKE\"])*1e4, \n",
    "#    \"savepath\" : f\"t30/GW/06_2DV_{zstr}_O\", \"cmap\" : \"bwr\", \"clim\" :  [-5.5, 5.5], \"discrete\" : 11, \"clabel\" : \"$O$ (10$^{-4}$ m$^2$.s$^{-3}$)\",\n",
    "# },{\"same\" : n,},{\"same\" : n,\n",
    "},{ \"same\" : n, \"Z\" : np.array(dg2D[\"DTW_TKE\"]-dg2D[\"GWM4_ATKE\"]-dg2D[\"GWM4_PTKE\"]-dg2D[\"TTKE\"])*1e4, \n",
    "   \"savepath\" : f\"t30/GW/06_2DV_{zstr}_O2\", \"cmap\" : \"bwr\", \"clim\" :  [-5.5, 5.5], \"discrete\" : 11, \"clabel\" : \"$<O>_{st}$ (10$^{-4}$ m$^2$.s$^{-3}$)\",\n",
    "},{\"same\" : n,},{\"same\" : n,\n",
    "# },{ \"same\" : n, \"Z\" : dg2D[\"GWM4_COVVW\"], \n",
    "#    \"savepath\" : f\"t30/GW/06_2DV_{zstr}_GWM4_COVVW\", \"cmap\" : \"bwr\", \"clim\" :  \"centered\", \"discrete\" : None, \"clabel\" : \"$<v_r'w'>\\ (m$^2$.s$^{-2}$)\",\n",
    "# },{\"same\" : n,},{\"same\" : n,\n",
    "# },{ \"same\" : n, \"Z\" : dg2D[\"M2W\"], \n",
    "#    \"savepath\" : f\"t30/GW/06_2DV_{zstr}_M2W\", \"cmap\" : 0, \"clim\" :  None, \"discrete\" : None, \"clabel\" : \"$<w'^2>\\ (m$^2$.s$^{-2}$)\",\n",
    "# },{\"same\" : n,},{\"same\" : n,\n",
    "# },{ \"same\" : n, \"Z\" : dg2D[\"DTW_GWM4_COVVW\"]*1e4, \n",
    "#    \"savepath\" : f\"t30/GW/06_2DV_{zstr}_DTW_GWM4_COVVW\", \"cmap\" : \"bwr\", \"clim\" :  [-5.5, 5.5], \"discrete\" : 11, \"clabel\" : \"$<v_r'w'>_{,t}$ (10$^{-4}$ m$^2$.s$^{-3}$)\",\n",
    "# },{\"same\" : n,},{\"same\" : n,\n",
    "# },{ \"same\" : n, \"Z\" : dg2D[\"GWM4_COVUV\"], \n",
    "#    \"savepath\" : f\"t30/GW/06_2DV_{zstr}_GWM4_COVUV\", \"cmap\" : \"bwr\", \"clim\" :  \"centered\", \"discrete\" : None, \"clabel\" : \"$<u_r'v_r'>\\ (m$^2$.s$^{-2}$)\",\n",
    "# },{\"same\" : n,},{\"same\" : n,\n",
    "}]\n",
    "# for v in [\"PUU1\", \"PUU2\", \"PUU3\", \"PVV1\", \"PVV2\", \"PVV3\", \"PWW1\", \"PWW2\", \"PWW3\"]:\n",
    "# # for v in [\"PVW1\", \"PVW2\", \"PVW3\", \"PVW4\", \"PVW5\", \"PVW6\", \"PVW\", \"AVW1\", \"AVW2\", \"AVW3\", \"AVW\"]:\n",
    "#     params.append({ \"same\" : n, \"Z\" : dg2D[f\"GWM4_{v}\"]*1e4, \"clabel\" : \"GWM4_\"+v+\" (10$^{-4}$ m$^2$.s$^{-3}$)\", \"cmap\" : \"bwr\", \"clim\" : [-11, 11], \"discrete\" : 11,\n",
    "#        \"savepath\" : f\"t30/GW/06_2DV_{zstr}_GWM4_{v}\", \n",
    "#     })\n",
    "#     params.append({\"same\" : n,})\n",
    "#     params.append({\"same\" : n,})\n",
    "fig = sim.plot_fig(params)"
   ]
  },
  {
   "cell_type": "markdown",
   "id": "9776f361-1897-44da-958f-c70bf37c081b",
   "metadata": {},
   "source": [
    "## Profile k as a function of z* and phi"
   ]
  },
  {
   "cell_type": "code",
   "execution_count": null,
   "id": "1c33fc31-6e9d-41fa-af48-848799e44841",
   "metadata": {},
   "outputs": [],
   "source": [
    "zindex = \"SBZ2\"\n",
    "varname = \"GWCTKE\"\n",
    "varZ = \"SBZ2\"\n",
    "saved_varnames = [\"GWCTKE\", \"SBZ2\", \"GWR\"]\n",
    "dfis = dg.fillna(np.inf).groupby([zindex, \"ir*\"])[saved_varnames].mean().replace(np.inf, np.nan)\n",
    "dfi5 = dg5.fillna(np.inf).groupby([zindex])[saved_varnames].mean().replace(np.inf, np.nan)"
   ]
  },
  {
   "cell_type": "code",
   "execution_count": null,
   "id": "b3022c8e-e74d-45d4-8802-a676e5ad1f59",
   "metadata": {
    "tags": []
   },
   "outputs": [],
   "source": [
    "from matplotlib.colors import Normalize\n",
    "params = [{\n",
    "    \"X\" : dfi5[varname], \"Y\" : dfi5[varZ],\n",
    "    \"kwargs_plt\" : {\"color\" : \"k\", \"linewidth\" : 3},\n",
    "    \"label\" : \"Outside the GW\",\n",
    "}]\n",
    "\n",
    "NR = 8\n",
    "cmap_name = \"tab10\"\n",
    "cmap = plt.get_cmap(cmap_name, NR)  # Choix de la colormap\n",
    "norm = Normalize(vmin=0, vmax=1)  # Normalisation des valeurs Z\n",
    "phase0 = np.linspace(0, 1, NR+1)\n",
    "for ir in range(NR) :\n",
    "    dfi = dfis.xs(ir, level='ir*')\n",
    "    color = cmap(norm(np.mean(dfi[\"GWR\"])))\n",
    "    params.append({\n",
    "        \"X\" : dfi[varname], \"Y\" : dfi[varZ], \"same_ax\" : True,\n",
    "        \"kwargs_plt\" : {\"color\" : color,}, #\"label\" : round(np.mean(dfi[\"GWR\"]), 2),\n",
    "        \"savepath\" : \"t30/GW/08_profile_GWCTKE_SBZ2_M45\",\n",
    "        \"xlim\" : [0, 0.25], \"ylim\" : [0, 2],\n",
    "        \"xlabel\" : \"$<k>_{st}$ (m$^2$.s$^{-2}$)\",\n",
    "        \"ylabel\" : \"$z^*$\",\n",
    "        \"dpi\" : 120,\n",
    "        \"xticks\" : np.arange(0, 0.26, 0.05),\n",
    "    })\n",
    "    params.append({\n",
    "        \"X\" : dfi[varname], \"Y\" : dfi[varZ], \"Z\" : dfi[\"GWR\"], \"same_ax\" : True,\n",
    "        \"cmap\" : cmap_name, \"clim\" : [0, 1],\"plot_cbar\" : ir==0, \"discrete\" : 8,\n",
    "        \"dpi\" : 120,\n",
    "        # \"clabel\" : \"Phase $\\phi_W/2\\pi$\",\n",
    "        \"ticklabels\" : [\"T\",\"$-$\",\"A\",\"$-$\",\"C\",\"$-$\",\"D\",\"$-$\", \"T\"],\n",
    "    })\n",
    "    phasei = np.linspace(phase0[ir], phase0[ir+1], 10)\n",
    "    # ampi = np.sin(2*np.pi*(phasei-0.25))\n",
    "    ampi = np.sin(2*np.pi*(phasei-0.25))\n",
    "    params.append({\n",
    "        \"X\" : 0.125+0.08*phasei, \"Y\" : 0.3+0.2*ampi, \"same_ax\" : True,\n",
    "        \"dpi\" : 120,\n",
    "        \"kwargs_plt\" : {\"color\" : color, \"linewidth\" : 5}, #\"label\" : round(np.mean(dfi[\"GWR\"]), 2),\n",
    "    })\n",
    "    params.append({\n",
    "        \"typ\" : \"TEXT\", \"x\" : 0.121+0.08*phasei[0], \"y\" : 0.27+0.2*ampi[0], \"Z\" : [\"T\",\"\",\"A\",\"\",\"C\",\"\",\"D\",\"\", \"T\"][ir]\n",
    "    })\n",
    "    \n",
    "params.append({\n",
    "    \"typ\" : \"TEXT\", \"x\" : 0.121+0.08*phase0[-1], \"y\" : 0.27+0.2*ampi[-1], \"Z\" : \"T\",\n",
    "})\n",
    "\n",
    "fig = sim.plot_fig(params)\n"
   ]
  }
 ],
 "metadata": {
  "kernelspec": {
   "display_name": "Python 3 (ipykernel)",
   "language": "python",
   "name": "python3"
  },
  "language_info": {
   "codemirror_mode": {
    "name": "ipython",
    "version": 3
   },
   "file_extension": ".py",
   "mimetype": "text/x-python",
   "name": "python",
   "nbconvert_exporter": "python",
   "pygments_lexer": "ipython3",
   "version": "3.7.12"
  }
 },
 "nbformat": 4,
 "nbformat_minor": 5
}
