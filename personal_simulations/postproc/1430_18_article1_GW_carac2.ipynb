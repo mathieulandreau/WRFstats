{
 "cells": [
  {
   "cell_type": "code",
   "execution_count": null,
   "id": "8757a1bc-de87-464c-96af-10e11e9a7298",
   "metadata": {},
   "outputs": [],
   "source": [
    "#py_wrf_arps version : 2308f94f39bfcb528a6831fa73111bec80e03a5a , the current date is :  2025-02-21 13:59:19.987486\n",
    "from py_wrf_arps import *\n",
    "import py_wrf_arps\n",
    "import matplotlib\n",
    "import time\n",
    "import copy\n",
    "import scipy\n",
    "import pandas as pd\n",
    "%matplotlib inline"
   ]
  },
  {
   "cell_type": "code",
   "execution_count": null,
   "id": "1789bc02-00af-4890-8d7f-a3cc42cce57d",
   "metadata": {},
   "outputs": [],
   "source": [
    "sim = Proj(\"../../../../\", \"14_20200515/\", [\"05\"], \n",
    "        [\"WRF\"], \n",
    "        tab_test=[\"30\"])\n",
    "dom = sim.get_dom(\"05\")"
   ]
  },
  {
   "cell_type": "markdown",
   "id": "2f58ca90-2d3e-4a0f-b66b-509294725627",
   "metadata": {
    "tags": []
   },
   "source": [
    "# Carac moyenne"
   ]
  },
  {
   "cell_type": "code",
   "execution_count": null,
   "id": "edd997d5-7e24-4bdf-a5d4-f5dde4b99195",
   "metadata": {},
   "outputs": [],
   "source": [
    "itime = (\"2020-05-17-12\", \"2020-05-17-16\")\n",
    "kw_get2 = {\n",
    "    \"itime\" : itime,\n",
    "    \"crop\" : (15, \"ALL\", \"ALL\"),\n",
    "}"
   ]
  },
  {
   "cell_type": "code",
   "execution_count": null,
   "id": "40c0eb42-5c5e-41ee-8383-0feb62aaac13",
   "metadata": {},
   "outputs": [],
   "source": [
    "S, LAM, A, m, TIME, D = sim.get_data(\"05\", [\"GWM4SM\", \"GWM4LAMM\", \"GWA\", \"GWMASK4\", \"TIME\", \"GWM4D\"], **kw_get2)\n",
    "D = manage_angle.angle180(D)\n",
    "A2 = []\n",
    "for it, t in enumerate(TIME) :\n",
    "    A2.append(np.nanmean(A[it, m[it]==1]))\n",
    "h = np.array(manage_time.to_hour(TIME))*100\n",
    "\n",
    "plot_du = False\n",
    "\n",
    "dfr = pd.read_pickle(sim.postprocdir+\"GW_M45_df_total\")\n",
    "dfri = dfr.loc[:, 0, :].groupby(\"it\")[[\"DU10\", \"TIME\"]].mean()\n",
    "if plot_du : TIME2, DU10 = dfri[\"TIME\"]*100, dfri[\"DU10\"]\n",
    "\n",
    "# Créer une figure et le premier axe\n",
    "fig, ax1 = plt.subplots(figsize=(11, 8), dpi = 120)\n",
    "ax2 = ax1.twinx()  # Deuxième axe y\n",
    "ax3 = ax1.twinx()  # Troisième axe y\n",
    "ax4 = ax1.twinx()  # Quatrième axe y\n",
    "if plot_du : ax5 = ax1.twinx()  # Quatrième axe y\n",
    "\n",
    "# Ajuster la position des axes pour éviter le chevauchement\n",
    "ax3.spines['right'].set_position(('axes', 1.15))\n",
    "ax4.spines['right'].set_position(('axes', 1.3))\n",
    "if plot_du : ax5.spines['right'].set_position(('axes', 1.45))\n",
    "\n",
    "# Couleurs des axes\n",
    "colors = list(matplotlib.rcParams[\"axes.prop_cycle\"])\n",
    "for i, c in enumerate(colors) :\n",
    "    colors[i] = c[\"color\"]\n",
    "print(colors[0])\n",
    "\n",
    "ax1.axhline(y=0, color=\"k\")\n",
    "\n",
    "# Tracer les données sur chaque axe\n",
    "ax1.plot(h, -S, 'v-', color=colors[0])\n",
    "ax2.plot(h, LAM/1000, 'o-', color=colors[1])\n",
    "ax3.plot(h, A2, 's-', color=colors[2])\n",
    "ax4.plot(h, D, '^-', color=colors[3])\n",
    "if plot_du : ax5.plot(TIME2, DU10, '>-', color=colors[4])\n",
    "\n",
    "# Appliquer les couleurs aux axes y\n",
    "ax1.tick_params(axis='y', labelcolor=colors[0])\n",
    "ax2.tick_params(axis='y', labelcolor=colors[1])\n",
    "ax3.tick_params(axis='y', labelcolor=colors[2])\n",
    "ax4.tick_params(axis='y', labelcolor=colors[3])\n",
    "if plot_du : ax5.tick_params(axis='y', labelcolor=colors[4])\n",
    "\n",
    "# Ajouter des labels pour chaque axe y\n",
    "ax1.set_ylabel('$U_{GW}$ (m.s$^{-1}$)', color=colors[0])\n",
    "ax2.set_ylabel('$\\lambda$ (km)', color=colors[1])\n",
    "ax3.set_ylabel('$<A_W>_s$ (m.s$^{-1}$)', color=colors[2])\n",
    "ax4.set_ylabel('Wave direction', color=colors[3])\n",
    "if plot_du : ax5.set_ylabel('$<\\Delta U_{10}>$ (m.s$^{-1}$)', color=colors[4])\n",
    "ax1.set_ylim([-1, 1])\n",
    "ax1.set_yticks([-1, -0.75, -0.5, -0.25, 0, 0.25, 0.5, 0.75, 1])\n",
    "ax2.set_ylim([-2, 2])\n",
    "ax2.set_yticks([0, 0.5, 1, 1.5, 2])\n",
    "ax3.set_ylim([-1, 1])\n",
    "ax3.set_yticks([0, 0.25, 0.5, 0.75, 1])\n",
    "# ax4.set_ylim([140, 170])\n",
    "ax4.set_ylim([-180, 180])\n",
    "ax4.set_yticks([-180, -135, -90, -45, 0, 45, 90, 135, 180])\n",
    "ax4.set_yticklabels([\"S\", \"SW\", \"W\", \"NW\", \"N\", \"NE\", \"E\", \"SE\", \"S\"])\n",
    "if plot_du : ax5.set_ylim([-6, 6])\n",
    "if plot_du : ax5.set_yticks([0, 1.5, 3, 4.5, 6])\n",
    "ax1.set_xlabel('Time (UTC)')\n",
    "ax1.set_xlim(1200, 1600)\n",
    "ax1.set_xticks(np.arange(1200, 1601, 100))\n",
    "ax1.grid()\n",
    "    \n",
    "if plot_du : fig.savefig(sim.figdir+\"t30/art1/GW_carac_TIME_DU10\", bbox_inches=\"tight\", dpi=120)\n",
    "else : fig.savefig(sim.figdir+\"t30/art1/GW_carac_TIME\", bbox_inches=\"tight\", dpi=120)"
   ]
  },
  {
   "cell_type": "markdown",
   "id": "4f14fba7-a86f-4d7a-b344-3bcee784e460",
   "metadata": {
    "tags": []
   },
   "source": [
    "## Build dataframe (skip if read_pickle)"
   ]
  },
  {
   "cell_type": "code",
   "execution_count": null,
   "id": "b12334d4-af80-4cc0-90d2-f7a180b913c8",
   "metadata": {
    "jupyter": {
     "source_hidden": true
    },
    "tags": []
   },
   "outputs": [],
   "source": [
    "p = {}\n",
    "kw_get = {\n",
    "    \"itime\" : (\"2020-05-17-11\", \"2020-05-17-17\"),\n",
    "    \"crop\" : ([0, 40], \"ALL\", \"ALL\"),\n",
    "    \"saved\" : p,\n",
    "}"
   ]
  },
  {
   "cell_type": "code",
   "execution_count": null,
   "id": "bbc6ef1f-0795-41c9-abd6-530822205952",
   "metadata": {
    "jupyter": {
     "source_hidden": true
    },
    "tags": []
   },
   "outputs": [],
   "source": [
    "varnames = [\"W\", \"GWM2R\", \"GWM2L\", \"GWMASK4\", \"GWMASK5\", \"GWIR\", \"GWIL\", \"GWA\", \"Z\", \"GWM2U\", \"PTV_C\", \"RHO\", \"NBV\", \"COASTDIST\"]\n",
    "_ = sim.get_data(\"05\", varnames, **kw_get)\n",
    "TIME = sim.get_data(\"05\", \"TIME\", **kw_get)\n",
    "p2 = {}\n",
    "NT, NZ, NY, NX = p[\"Z\"].shape\n",
    "p[\"it\"] = np.arange(len(TIME))\n",
    "p[\"it\"] = np.expand_dims(p[\"it\"], axis=1)\n",
    "p[\"it\"] = np.repeat(p[\"it\"], NZ, axis=1)\n",
    "p[\"it\"] = np.expand_dims(p[\"it\"], axis=2)\n",
    "p[\"it\"] = np.repeat(p[\"it\"], NY, axis=2)\n",
    "p[\"it\"] = np.expand_dims(p[\"it\"], axis=3)\n",
    "p[\"it\"] = np.repeat(p[\"it\"], NX, axis=3)\n",
    "for v in varnames :\n",
    "    if p[v].ndim == 1 :\n",
    "        p[v] = np.expand_dims(p[v], axis=1)\n",
    "        p[v] = np.repeat(p[v], NZ*NY*NX, axis=1)\n",
    "    if p[v].ndim == 3 :\n",
    "        p[v] = np.expand_dims(p[v], axis=1)\n",
    "        p[v] = np.repeat(p[v], NZ, axis=1)\n",
    "    if p[v].ndim == 4 :\n",
    "        p2[v] = p[v].flatten()\n",
    "p2[\"it\"] = p[\"it\"].flatten()"
   ]
  },
  {
   "cell_type": "code",
   "execution_count": null,
   "id": "9c30aceb-d5de-4c33-9567-d8316d2a791b",
   "metadata": {
    "jupyter": {
     "source_hidden": true
    },
    "tags": []
   },
   "outputs": [],
   "source": [
    "df0 = pd.DataFrame(p2)\n",
    "df0[\"iz\"] = pd.cut(df0[\"Z\"], bins=np.arange(0, 2030, 20), labels=False).astype(int)\n",
    "df0 = df0.rename(columns={'GWIR': 'ir', 'GWIL': 'il'})"
   ]
  },
  {
   "cell_type": "code",
   "execution_count": null,
   "id": "2ef6cf24-703f-4396-896a-2b0ead9c9c92",
   "metadata": {
    "jupyter": {
     "source_hidden": true
    },
    "tags": []
   },
   "outputs": [],
   "source": [
    "indices=[\"it\", \"iz\", \"il\", \"ir\"]\n",
    "df0 = df0.set_index(indices)"
   ]
  },
  {
   "cell_type": "code",
   "execution_count": null,
   "id": "e80c8c0b-5a56-4dc8-8bc7-3b9d6abb5a4d",
   "metadata": {
    "jupyter": {
     "source_hidden": true
    },
    "tags": []
   },
   "outputs": [],
   "source": [
    "df0.head()"
   ]
  },
  {
   "cell_type": "markdown",
   "id": "aa0b13d3-27d8-4b5b-990a-a6cba6150846",
   "metadata": {},
   "source": [
    "### Keep only valid points\n",
    "A chaque pas de temps, on souhaite garder les cellules (ir, il) qui vérifie les conditions suivantes :\n",
    "- ir : la cellule est entièrement placée entre 2km et 5km du front (3 cellules de chaque côté pour chaque il)\n",
    "- il : la cellule est située à plus de 2 km de la côte et des limites du domaine\n",
    "- il : On converve l'indice il si les 6 cellules ir sont valides (i.e. on veut un domaine rectangle)"
   ]
  },
  {
   "cell_type": "code",
   "execution_count": null,
   "id": "7607216d-1b38-4399-85ad-354e33ccad2f",
   "metadata": {
    "jupyter": {
     "source_hidden": true
    },
    "tags": []
   },
   "outputs": [],
   "source": [
    "df0m = df0[df0[\"GWMASK5\"]+ df0[\"GWMASK4\"] == 1].groupby([\"it\", \"iz\", \"il\", \"ir\"])\\\n",
    "[\"GWM2U\", \"PTV_C\", \"GWA\", \"Z\", \"RHO\", \"NBV\", \"COASTDIST\", \"GWMASK5\", \"GWMASK4\"].mean()"
   ]
  },
  {
   "cell_type": "code",
   "execution_count": null,
   "id": "f44d2e07-29fb-4a65-849a-a17cee99558b",
   "metadata": {
    "jupyter": {
     "source_hidden": true
    },
    "tags": []
   },
   "outputs": [],
   "source": [
    "df0r = df0m[df0m[\"GWMASK5\"]==1].groupby([\"it\", \"iz\", \"il\"])[\"GWM2U\", \"PTV_C\", \"GWA\", \"Z\", \"RHO\", \"NBV\", \"COASTDIST\"].mean()\n",
    "df1r = df0m[df0m[\"GWMASK4\"]==1].groupby([\"it\", \"iz\", \"il\"])[\"GWM2U\", \"PTV_C\", \"GWA\", \"Z\", \"RHO\", \"NBV\", \"COASTDIST\"].mean()"
   ]
  },
  {
   "cell_type": "code",
   "execution_count": null,
   "id": "0bd3bd58-4ee4-4f0b-8153-f19cf985a24a",
   "metadata": {
    "jupyter": {
     "source_hidden": true
    },
    "tags": []
   },
   "outputs": [],
   "source": [
    "dfr = pd.merge(df0r, df1r, left_index=True, right_index=True, suffixes=[\"0\", \"1\"])"
   ]
  },
  {
   "cell_type": "code",
   "execution_count": null,
   "id": "2298f132-01a7-46ee-a1d8-32f17c244b60",
   "metadata": {
    "jupyter": {
     "source_hidden": true
    },
    "tags": []
   },
   "outputs": [],
   "source": [
    "def calculate_bore_carac2(group):\n",
    "    #read from dataframe\n",
    "    RHO0 = group['RHO0'].values\n",
    "    RHO1 = group['RHO1'].values\n",
    "    T0 = group['PTV_C0'].values\n",
    "    T1 = group['PTV_C1'].values\n",
    "    U0 = group['GWM2U0'].values\n",
    "    U1 = group['GWM2U1'].values\n",
    "    Z0 = group['Z0'].values\n",
    "    Z1 = group['Z1'].values\n",
    "    NBV0 = group['NBV0'].values\n",
    "    NBV1 = group['NBV1'].values\n",
    "    GWA1 = group['GWA1'].values\n",
    "    CDI1 = group['COASTDIST1'].values\n",
    "    \n",
    "    # La hauteur finale est celle où GWA est maximale\n",
    "    NZ = len(Z0)\n",
    "    izmax1 = np.nanargmax(GWA1)\n",
    "    Z1A = Z1[izmax1]\n",
    "    TA = T1[izmax1]\n",
    "    # La hauteur initiale est celle avec la même température potentielle\n",
    "    Z0A = np.interp(TA, T0, Z0) #initial height of every Z1 point\n",
    "    izmax0 = int(np.interp(Z0A, Z0, np.arange(NZ)))\n",
    "    # La fréquence de NBV est prise à la hauteur Z0A\n",
    "    N0 = NBV0[izmax0]\n",
    "    N1 = NBV1[izmax1]\n",
    "    # For DU(GWA)\n",
    "    GWAmax = np.nanmax(GWA1)\n",
    "    # On teste 2 vitesses\n",
    "    DU = np.nanmean((U0-U1)[:izmax0])\n",
    "    DU10 = U0[0]-U1[0]\n",
    "    DU0 = U0[izmax0]-U1[izmax1]\n",
    "    \n",
    "    #save in dataframe\n",
    "    group[\"DU10\"] = DU10 #wind speed difference at 10 m\n",
    "    group[\"DU\"] = DU #between 0 and Z0A\n",
    "    group[\"DU0\"] = DU0\n",
    "    group[\"GWAmax\"] = GWAmax\n",
    "    group[\"izmax1\"] = izmax1\n",
    "    group[\"izmax0\"] = izmax0\n",
    "    group[\"Z0A\"] = Z0A\n",
    "    group[\"Z1A\"] = Z1A\n",
    "    group[\"N0\"] = N0\n",
    "    group[\"N1\"] = N1\n",
    "    group[\"CDI\"] = np.mean(CDI1)\n",
    "    return group"
   ]
  },
  {
   "cell_type": "code",
   "execution_count": null,
   "id": "37819903-becd-4235-9dac-1f783e7b194a",
   "metadata": {
    "jupyter": {
     "source_hidden": true
    },
    "tags": []
   },
   "outputs": [],
   "source": [
    "dfr = dfr.groupby(['it', 'il'], group_keys=False).apply(calculate_bore_carac2)\n",
    "dfr[\"TIME\"] = manage_time.to_hour(TIME[list(dfr.index.get_level_values('it'))])"
   ]
  },
  {
   "cell_type": "markdown",
   "id": "1ab0c0ab-dd36-42c9-a8da-ef86461b9958",
   "metadata": {
    "jp-MarkdownHeadingCollapsed": true,
    "tags": []
   },
   "source": [
    "## Save dataframe (skip if read_pickle)"
   ]
  },
  {
   "cell_type": "code",
   "execution_count": null,
   "id": "c7b85040-f4a4-4f1a-bba9-060bf7368618",
   "metadata": {},
   "outputs": [],
   "source": [
    "dfr.to_pickle(sim.postprocdir+\"GW_M45_df_total\")"
   ]
  },
  {
   "cell_type": "markdown",
   "id": "92daec16-b103-47bc-97c7-e20b40b4af86",
   "metadata": {
    "tags": []
   },
   "source": [
    "## Load dataframe"
   ]
  },
  {
   "cell_type": "code",
   "execution_count": null,
   "id": "7f88d91e-df48-46a7-a3a5-fa56ea57dc7d",
   "metadata": {},
   "outputs": [],
   "source": [
    "dfr = pd.read_pickle(sim.postprocdir+\"GW_M45_df_total\")"
   ]
  },
  {
   "cell_type": "markdown",
   "id": "141cdada-c653-417c-808e-1ae05420a1b9",
   "metadata": {
    "tags": []
   },
   "source": [
    "## GW carac"
   ]
  },
  {
   "cell_type": "code",
   "execution_count": null,
   "id": "b59d2cd2-5963-43b8-9745-c50de3b4cf87",
   "metadata": {},
   "outputs": [],
   "source": [
    "df_grid = dfr.loc[:, 0, :].droplevel(\"iz\").unstack(fill_value=np.nan)\n",
    "x = df_grid[\"TIME\"].values  # Coordonnées pour x\n",
    "x = x*100\n",
    "y = df_grid[\"COASTDIST1\"].values    # Coordonnées pour y\n",
    "y = -y/1000\n",
    "z = df_grid[\"GWAmax\"].values        # Matrice des valeurs, avec NaN\n",
    "z2 = df_grid[\"DU10\"].values        # Matrice des valeurs, avec NaN\n",
    "from matplotlib.patches import Rectangle\n",
    "from matplotlib.cm import ScalarMappable\n",
    "from matplotlib.colors import Normalize\n",
    "\n",
    "x[:]= np.nanmean(x, axis=1, keepdims=True)\n",
    "NT, NX = x.shape\n",
    "dx = np.abs(x[1, 0] - x[0, 0])*1.05\n",
    "dy = np.abs(y[0, 1] - y[0, 0])*1.15\n",
    "\n",
    "\n",
    "# Configurer la colormap\n",
    "cmap = plt.cm.Spectral_r  # Choix de la colormap\n",
    "norm = Normalize(vmin=np.nanmin(z), vmax=np.nanmax(z))  # Normalisation des valeurs Z\n",
    "fig = plt.figure(figsize = [12, 8], dpi=120)\n",
    "ax = plt.subplot(111)\n",
    "for it in range(NT):  # On parcourt chaque intervalle de temps\n",
    "    for ix in range(NX):  # On parcourt chaque intervalle en X\n",
    "        # Définir les coordonnées des sommets du rectangle\n",
    "        x0 = x[it, ix] - dx\n",
    "        y0 = y[it, ix] - dy\n",
    "        # Couleur basée sur Z\n",
    "        color = cmap(norm(z[it, ix]))\n",
    "        # Ajouter un rectangle\n",
    "        if not (np.isnan(x0) or np.isnan(y0)) :\n",
    "            rect = Rectangle((x0, y0), dx,dy, facecolor=color, edgecolor=None)\n",
    "            ax.add_patch(rect)\n",
    "plt.colorbar(ScalarMappable(cmap=cmap, norm=norm), label='$A_{GW}$ (m.s$^{-1}$)')\n",
    "plt.xlabel(\"Time (UTC)\")\n",
    "plt.ylabel(\"Distance from nearest coast (km)\")\n",
    "ax.set_xlim(np.nanmin(x), np.nanmax(x))\n",
    "ax.set_ylim([2, 15])\n",
    "cont = plt.contour(x, y, z, colors=\"k\", levels = [0.2, 0.4, 0.6, 0.8, 1, 1.2], linewidths=1)\n",
    "ax.clabel(cont, cont.levels, inline=True, fontsize=15)\n",
    "fig.savefig(sim.figdir + \"t30/art1/GW_TIME_CDI_GWA\", dpi=120)"
   ]
  },
  {
   "cell_type": "code",
   "execution_count": null,
   "id": "440793db-6c3e-4d65-afaf-33f2eb91fb37",
   "metadata": {},
   "outputs": [],
   "source": [
    "def pol(x, a):\n",
    "    return a*x\n",
    "dfri = dfr[np.logical_and(dfr[\"TIME\"] >= 12, dfr[\"TIME\"] <= 16)]\n",
    "\n",
    "coeff, _ = scipy.optimize.curve_fit(pol, dfri[\"DU10\"], dfri[\"GWAmax\"], p0=[0.2])\n",
    "y_pred = pol(dfri[\"DU10\"], *coeff)\n",
    "residuals = dfri[\"GWAmax\"] - y_pred\n",
    "ss_res = np.sum(residuals**2)\n",
    "ss_tot = np.sum((dfri[\"GWAmax\"]-np.mean(dfri[\"GWAmax\"]))**2)\n",
    "r_squared = 1 - (ss_res / ss_tot)\n",
    "print(\"R2 : \", r_squared)\n",
    "DUtemp = np.arange(0, 6, 0.1)\n",
    "GWAtemp = pol(DUtemp, coeff[0])\n",
    "params = [{\n",
    "    \"X\" : dfri[\"DU10\"], \"Y\" : dfri[\"GWAmax\"],\n",
    "    # \"Z\" : dfri[\"TIME\"]*100, \"cmap\" : \"coolwarm\", \"discrete\" : 6, \"clabel\" : \"time\",\n",
    "    \"Z\" : -dfri[\"COASTDIST1\"]/1000, \"cmap\" : \"Spectral\", \"discrete\" : 4, \"clabel\" : \"Distance from coastline (km)\", \"clim\" : [0, 16],\n",
    "    \"savepath\" : \"t30/art1/GWA_DU_CDI\", \"kwargs_plt\" : { \"s\" : 40, \"marker\" : \"s\"},\n",
    "    \"xlabel\" : \"$\\Delta U_{10}$ (m.s$^{-1}$)\", \"ylabel\" : \"$A_{GW}$ (m.s$^{-1}$)\", \n",
    "    \"ylim\" : [0, 1.3], \"xlim\" : [0, 6],\n",
    "    \"dpi\" : 120,\n",
    "    \"cmap\" : 0,\n",
    "    \n",
    "},{ \"X\" : DUtemp, \"Y\" : GWAtemp, \"label\" : str(round(coeff[0], 2))+\"$\\Delta U_{10}$\", \"same_ax\" : True, \"style\" : \"k--\",\n",
    "},{ \"typ\" : \"TEXT\", \"Z\" : \"$R^2 = 0.53$\", \"x\" : 1, \"y\" : 0.65,\n",
    "}]\n",
    "fig = sim.plot_fig(params)"
   ]
  }
 ],
 "metadata": {
  "kernelspec": {
   "display_name": "Python 3 (ipykernel)",
   "language": "python",
   "name": "python3"
  },
  "language_info": {
   "codemirror_mode": {
    "name": "ipython",
    "version": 3
   },
   "file_extension": ".py",
   "mimetype": "text/x-python",
   "name": "python",
   "nbconvert_exporter": "python",
   "pygments_lexer": "ipython3",
   "version": "3.7.12"
  }
 },
 "nbformat": 4,
 "nbformat_minor": 5
}
