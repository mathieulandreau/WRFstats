{
 "cells": [
  {
   "cell_type": "code",
   "execution_count": null,
   "id": "8757a1bc-de87-464c-96af-10e11e9a7298",
   "metadata": {},
   "outputs": [],
   "source": [
    "#py_wrf_arps version : 2308f94f39bfcb528a6831fa73111bec80e03a5a , the current date is :  2025-02-21 13:59:19.987486\n",
    "from py_wrf_arps import *\n",
    "import py_wrf_arps\n",
    "import time\n",
    "import copy\n",
    "import scipy\n",
    "import pandas as pd\n",
    "%matplotlib inline"
   ]
  },
  {
   "cell_type": "code",
   "execution_count": null,
   "id": "1789bc02-00af-4890-8d7f-a3cc42cce57d",
   "metadata": {},
   "outputs": [],
   "source": [
    "sim = Proj(\"../../../../\", \"14_20200515/\", [\"05\"], \n",
    "        [\"WRF\"], \n",
    "        tab_test=[\"30\"])\n",
    "dom = sim.get_dom(\"05\")"
   ]
  },
  {
   "cell_type": "code",
   "execution_count": null,
   "id": "a1b275b0-21f5-4fb8-8936-fcbd6f525bcc",
   "metadata": {},
   "outputs": [],
   "source": [
    "line2 = [[47.24612, -2.563324], 30000.0, 2.5656340004316642] #Ligne perpendiculaire au front à 12h, utilisée dans l'article\n",
    "\n",
    "itime = \"2020-05-17-13\"\n",
    "kw_get = {\n",
    "    \"itime\" : itime,\n",
    "    \"vinterp\" : {\n",
    "        \"points\" : line2,\n",
    "        \"levels\" : (300, 301, 10),\n",
    "    },\n",
    "    \"saved\" : {},\n",
    "}"
   ]
  },
  {
   "cell_type": "code",
   "execution_count": null,
   "id": "7dcf8493-8c30-4708-9b82-b31318d4d621",
   "metadata": {},
   "outputs": [],
   "source": [
    "from py_wrf_arps import manage_scipy\n",
    "# W, GWR, GWS = \\\n",
    "# sim.get_data(\"05\", [\"W\", \"GWR\", \"GWS\"], **kw_get)\n",
    "W, GWR, GWS, GWSM, GWLAM, GWMASK, M2W, GWA, GWAVGW, U, M2U, GWAU, GWAVGU, GWM2R, varU, varW = \\\n",
    "sim.get_data(\"05\", [\"W\", \"GWR\", \"GWS\", \"GWSM\", \"GWLAM\", \"GWMASK4\", \"M2W\", \"GWA\", \"GWAVGW\", \"U\", \"M2U\", \"GWAU\", \"GWAVGU\", \"GWM2R\", \"GWIM2U\", \"GWIM2W\"], **kw_get)\n",
    "DX, DY, X, Y = sim.get_data(\"05\", [\"DX\", \"DY\", \"X\", \"Y\"])\n",
    "\n",
    "DT = 600\n",
    "OMEGA = 2*np.pi * GWSM/GWLAM\n",
    "GWMASK[GWMASK == 0] = np.nan\n",
    "GWMASK[GWMASK > 0] = 1\n",
    "GWMASK2 = np.ones(GWMASK.shape)\n",
    "GWMASK2[GWM2R < 0] = np.nan\n",
    "GWMASK2[GWM2R > 10000] = np.nan\n",
    "\n",
    "PHIW = ((GWR+0)%1) * 2*np.pi\n",
    "Wexp = GWA * np.sin(PHIW) + GWAVGW\n",
    "PHIU = ((GWR-0.25)%1) * 2*np.pi\n",
    "Uexp = GWAU * np.sin(PHIU) + GWAVGU\n"
   ]
  },
  {
   "cell_type": "code",
   "execution_count": null,
   "id": "056eea1e-890c-4ae6-a40a-567603502223",
   "metadata": {},
   "outputs": [],
   "source": [
    "ix = 80\n",
    "s = slice(0, None, -1)\n",
    "params = [{\n",
    "    \"X\" : GWM2R*GWMASK2/1000, \"Y\" : U*GWMASK2, \"style\" : \"-\", \"kwargs_plt\" : {\"color\" : manage_plot.colors[0],}, \n",
    "    \"DX_subplots\" : 8, \"NX_subplots\" : 2, \"label\" : \"$U$\", \"ylim\" : [-1, 2.5], \"yticks\" : [-1, 0, 1, 2],\n",
    "    \"xlabel\": \"$X_r$ (km)\",\n",
    "    \"ylabel\": \"Velocity (m.s$^{-1}$)\",\n",
    "    \"savepath\" : \"t30/art1/GW_correction_stats_velocity_\"+itime, \n",
    "    \"dpi\" : 120,\n",
    "    \"xlim\" : [1, 6],\n",
    "},{ \"same\" : -1, \"Y\" : Uexp*GWMASK, \"style\" : \"o-\", \"same_ax\" : True, \"label\" : None, \"label\" : \"$U_{sine}$\",\n",
    "},{ \"same\" : -1, \"Y\" : GWAVGU*GWMASK2, \"style\" : \"--\", \"label\" : \"$\\widetilde{U}$\",\n",
    "},{ \"same\" : -1, \"Y\" : W*GWMASK2, \"style\" : \"-\", \"label\" : \"$W$\", \"kwargs_plt\" : {\"color\" : manage_plot.colors[1],}, \n",
    "},{ \"same\" : -1, \"Y\" : Wexp*GWMASK, \"style\" : \"o-\", \"label\" : None, \"label\" : \"$W_{sine}$\",\n",
    "},{ \"same\" : -1, \"Y\" : GWAVGW*GWMASK2, \"style\" : \"--\", \"label\" : \"$\\widetilde{W}$\",\n",
    "},{\n",
    "    \"same\" : -1, \"Y\" : M2U*GWMASK2, \"style\" : \"-\", \"same_fig\" : False, \"kwargs_plt\" : {\"color\" : manage_plot.colors[0],},\n",
    "    \"ylim\" : [0, 0.8], \"yticks\" : [0, 0.2, 0.4, 0.6, 0.8], \"label\" : \"$\\overline{u'^2}$\",\n",
    "    \"ylabel\": \"Velocity variance (m$^2$.s$^{-2}$)\",\n",
    "    \"savepath\" : \"t30/art1/GW_correction_stats_variance_\"+itime, \n",
    "},{ \"same\" : -1, \"Y\" : varU*GWMASK, \"style\" : \"o-\", \"same_fig\" : True, \"same_ax\" : True, \"label\" : \"$G_U$\",\n",
    "},{ \"same\" : -1, \"Y\" : M2W*GWMASK2, \"style\" : \"-\", \"kwargs_plt\" : {\"color\" : manage_plot.colors[1],}, \"label\" : \"$\\overline{w'^2}$\",\n",
    "},{ \"same\" : -1, \"Y\" : varW*GWMASK, \"style\" : \"o-\", \"label\" : \"$G_W$\",\n",
    "}]\n",
    "fig = sim.plot_fig(params)"
   ]
  }
 ],
 "metadata": {
  "kernelspec": {
   "display_name": "Python 3 (ipykernel)",
   "language": "python",
   "name": "python3"
  },
  "language_info": {
   "codemirror_mode": {
    "name": "ipython",
    "version": 3
   },
   "file_extension": ".py",
   "mimetype": "text/x-python",
   "name": "python",
   "nbconvert_exporter": "python",
   "pygments_lexer": "ipython3",
   "version": "3.7.12"
  }
 },
 "nbformat": 4,
 "nbformat_minor": 5
}
